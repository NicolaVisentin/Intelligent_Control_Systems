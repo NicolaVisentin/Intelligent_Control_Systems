{
 "cells": [
  {
   "cell_type": "markdown",
   "id": "ac408b5e",
   "metadata": {
    "deletable": false,
    "editable": false,
    "nbgrader": {
     "cell_type": "markdown",
     "checksum": "cc639f114a2869c4d2f09a3fb9299a08",
     "grade": false,
     "grade_id": "cell-b00828259c8e42e8",
     "locked": true,
     "schema_version": 3,
     "solution": false,
     "task": false
    }
   },
   "source": [
    "# RO47019: Intelligent Control Systems Practical Assignment\n",
    "* Period: 2024-2025, Q4\n",
    "* Course homepage: https://brightspace.tudelft.nl/d2l/home/682445\n",
    "* Instructor: Cosimo Della Santina (C.DellaSantina@tudelft.nl)\n",
    "* Teaching assistant: Niels Stienen (N.L.Stienen@student.tudelft.nl)\n",
    "* (c) TU Delft, 2025\n",
    "\n",
    "Make sure you fill in any place that says `YOUR CODE HERE` or `YOUR ANSWER HERE` and remove `raise NotImplementedError()` afterwards. Moreover, if you see an empty cell, please **do not** delete it, instead run that cell as you would run all other cells. Finally, please **do not** add any extra cells to this notebook or change the existing cells unless you are explicitly asked to do so.\n",
    "\n",
    "Please fill in your name(s) and other required details below:"
   ]
  },
  {
   "cell_type": "code",
   "execution_count": 1,
   "id": "4f9e220c",
   "metadata": {},
   "outputs": [],
   "source": [
    "# Please fill in your names, student numbers, netID, and emails below.\n",
    "STUDENT_1_NAME = \"Nicola Visentin\"\n",
    "STUDENT_1_STUDENT_NUMBER = \"6354815\"\n",
    "STUDENT_1_NETID = \"nvisentin\"\n",
    "STUDENT_1_EMAIL = \"N.Visentin@student.tudelft.nl\""
   ]
  },
  {
   "cell_type": "code",
   "execution_count": 2,
   "id": "8ba32571",
   "metadata": {
    "deletable": false,
    "editable": false,
    "nbgrader": {
     "cell_type": "code",
     "checksum": "042927213b84aa368aa3ea72caa4cb60",
     "grade": true,
     "grade_id": "cell-9f148ec62e0de49c",
     "locked": true,
     "points": 0,
     "schema_version": 3,
     "solution": false,
     "task": false
    }
   },
   "outputs": [],
   "source": [
    "# Note: this block is a check that you have filled in the above information.\n",
    "# It will throw an AssertionError until all fields are filled\n",
    "assert STUDENT_1_NAME != \"\"\n",
    "assert STUDENT_1_STUDENT_NUMBER != \"\"\n",
    "assert STUDENT_1_NETID != \"\"\n",
    "assert STUDENT_1_EMAIL != \"\""
   ]
  },
  {
   "cell_type": "markdown",
   "id": "af317a94",
   "metadata": {
    "deletable": false,
    "editable": false,
    "nbgrader": {
     "cell_type": "markdown",
     "checksum": "e1ac82f761cd49715da5f2adb9bea9f2",
     "grade": false,
     "grade_id": "cell-4ea391677951116c",
     "locked": true,
     "schema_version": 3,
     "solution": false,
     "task": false
    }
   },
   "source": [
    "### General announcements\n",
    "\n",
    "* Do *not* share your solutions (also after the course is finished), and do *not* copy solutions from others. By submitting your solutions, you claim that you alone are responsible for this code.\n",
    "\n",
    "* Please post your questions regarding this assignment in the correct support forum on Brightspace, this way everybody can benefit from the response. Please note that it is **not** allowed to post any code relating to solution attempts. If you do have a particular question that you want to ask directly, please use the scheduled Q&A hours to ask the TA or if not possible otherwise, send an email to the instructor or TA.\n",
    "\n",
    "* This notebook will have in various places a line that throws a `NotImplementedError` exception. These are locations where the assignment requires you to adapt the code! These lines are just there as a reminder for you that you have not yet adapted that particular piece of code, especially when you execute all the cells. Once your solution code replaced these lines, it should accordingly *not* throw any exceptions anymore.\n",
    "\n",
    "* This [Jupyter notebook](https://jupyter.org/) uses `nbgrader` to help us with automated tests. `nbgrader` will make various cells in this notebook \"uneditable\" or \"unremovable\" and gives them a special id in the cell metadata. This way, when we run our checks, the system will check the existence of the cell ids and verify the number of points and which checks must be run. While there are ways that you can edit the metadata and work around the restrictions to delete or modify these special cells, you should not do that since then our nbgrader backend will not be able to parse your notebook and give you points for the assignment. \n",
    "\n",
    "* Please note that the above mentioned _read-only_ protection only works in Jupyter Notebook, and it does not work if you open this notebook in another editor (e.g., VSCode, PyCharm, etc.). Therefore, we recommend that you only use Jupyter Notebook for this course. If you use any other editor, you may accidentally delete cells, modify the tests, etc., which would cause you to lose points.\n",
    "\n",
    "* If you edit a function that is imported in another notebook, you need to **restart the kernel** of the notebook where you are using the function. Otherwise, the changes will not be effective.\n",
    "\n",
    "* **IMPORTANT**: Please make sure that your code executes without any errors before submitting the notebook. An easy way to ensure this is to use the validation script as described in the README."
   ]
  },
  {
   "cell_type": "code",
   "execution_count": null,
   "id": "3c956945",
   "metadata": {},
   "outputs": [],
   "source": []
  },
  {
   "cell_type": "markdown",
   "id": "12af8b2f",
   "metadata": {
    "deletable": false,
    "editable": false,
    "nbgrader": {
     "cell_type": "markdown",
     "checksum": "c532ad4ef6b9e114d0ebe3908d2e44b7",
     "grade": false,
     "grade_id": "cell-09ee0d8744e5ae05",
     "locked": true,
     "schema_version": 3,
     "solution": false,
     "task": false
    }
   },
   "source": [
    "# Task 3b - Familiarization with Multi-Input Single output GPs (5p)\n",
    "**Authors:** Giovanni Franzese, Lorenzo Lyons (L.Lyons@tudelft.nl)"
   ]
  },
  {
   "cell_type": "code",
   "execution_count": 3,
   "id": "0f4ceacc",
   "metadata": {
    "deletable": false,
    "editable": false,
    "nbgrader": {
     "cell_type": "code",
     "checksum": "580d23f30196d59b4f4026cd53525f23",
     "grade": false,
     "grade_id": "cell-ba3273c841494da7",
     "locked": true,
     "schema_version": 3,
     "solution": false,
     "task": false
    }
   },
   "outputs": [],
   "source": [
    "import gpytorch\n",
    "from gpytorch.models import ApproximateGP\n",
    "from gpytorch.variational import CholeskyVariationalDistribution\n",
    "from gpytorch.variational import VariationalStrategy\n",
    "import matplotlib.pyplot as plt\n",
    "from matplotlib.widgets import Slider\n",
    "import numpy as np\n",
    "import pandas as pd\n",
    "from pathlib import Path\n",
    "import torch\n",
    "from torch.utils.data import TensorDataset, DataLoader\n",
    "from tqdm.notebook import tqdm  # progress bar\n",
    "\n",
    "# define folder where to save animations and plots\n",
    "outputs_dir = Path(\"outputs\")\n",
    "outputs_dir.mkdir(parents=True, exist_ok=True)"
   ]
  },
  {
   "cell_type": "markdown",
   "id": "549d3167",
   "metadata": {
    "deletable": false,
    "editable": false,
    "nbgrader": {
     "cell_type": "markdown",
     "checksum": "e83e0ef63ba046a0f3056ff765a0b1d1",
     "grade": false,
     "grade_id": "cell-a465b1b75d945b2b",
     "locked": true,
     "schema_version": 3,
     "solution": false,
     "task": false
    }
   },
   "source": [
    "## Task 3b.1 - Load the dataset with concrete data (0p)"
   ]
  },
  {
   "cell_type": "code",
   "execution_count": 4,
   "id": "5b58cdd3",
   "metadata": {
    "deletable": false,
    "editable": false,
    "nbgrader": {
     "cell_type": "code",
     "checksum": "3ff58139f3f2857e51d8ca4a032ea0a8",
     "grade": false,
     "grade_id": "cell-c30144953f9790f1",
     "locked": true,
     "schema_version": 3,
     "solution": false,
     "task": false
    }
   },
   "outputs": [
    {
     "data": {
      "text/html": [
       "<div>\n",
       "<style scoped>\n",
       "    .dataframe tbody tr th:only-of-type {\n",
       "        vertical-align: middle;\n",
       "    }\n",
       "\n",
       "    .dataframe tbody tr th {\n",
       "        vertical-align: top;\n",
       "    }\n",
       "\n",
       "    .dataframe thead th {\n",
       "        text-align: right;\n",
       "    }\n",
       "</style>\n",
       "<table border=\"1\" class=\"dataframe\">\n",
       "  <thead>\n",
       "    <tr style=\"text-align: right;\">\n",
       "      <th></th>\n",
       "      <th>Cement (component 1)(kg in a m^3 mixture)</th>\n",
       "      <th>Blast Furnace Slag (component 2)(kg in a m^3 mixture)</th>\n",
       "      <th>Fly Ash (component 3)(kg in a m^3 mixture)</th>\n",
       "      <th>Water  (component 4)(kg in a m^3 mixture)</th>\n",
       "      <th>Superplasticizer (component 5)(kg in a m^3 mixture)</th>\n",
       "      <th>Coarse Aggregate  (component 6)(kg in a m^3 mixture)</th>\n",
       "      <th>Fine Aggregate (component 7)(kg in a m^3 mixture)</th>\n",
       "      <th>Age (day)</th>\n",
       "      <th>Concrete compressive strength(MPa, megapascals)</th>\n",
       "    </tr>\n",
       "  </thead>\n",
       "  <tbody>\n",
       "    <tr>\n",
       "      <th>0</th>\n",
       "      <td>540.0</td>\n",
       "      <td>0.0</td>\n",
       "      <td>0.0</td>\n",
       "      <td>162.0</td>\n",
       "      <td>2.5</td>\n",
       "      <td>1040.0</td>\n",
       "      <td>676.0</td>\n",
       "      <td>28</td>\n",
       "      <td>79.99</td>\n",
       "    </tr>\n",
       "    <tr>\n",
       "      <th>1</th>\n",
       "      <td>540.0</td>\n",
       "      <td>0.0</td>\n",
       "      <td>0.0</td>\n",
       "      <td>162.0</td>\n",
       "      <td>2.5</td>\n",
       "      <td>1055.0</td>\n",
       "      <td>676.0</td>\n",
       "      <td>28</td>\n",
       "      <td>61.89</td>\n",
       "    </tr>\n",
       "    <tr>\n",
       "      <th>2</th>\n",
       "      <td>332.5</td>\n",
       "      <td>142.5</td>\n",
       "      <td>0.0</td>\n",
       "      <td>228.0</td>\n",
       "      <td>0.0</td>\n",
       "      <td>932.0</td>\n",
       "      <td>594.0</td>\n",
       "      <td>270</td>\n",
       "      <td>40.27</td>\n",
       "    </tr>\n",
       "    <tr>\n",
       "      <th>3</th>\n",
       "      <td>332.5</td>\n",
       "      <td>142.5</td>\n",
       "      <td>0.0</td>\n",
       "      <td>228.0</td>\n",
       "      <td>0.0</td>\n",
       "      <td>932.0</td>\n",
       "      <td>594.0</td>\n",
       "      <td>365</td>\n",
       "      <td>41.05</td>\n",
       "    </tr>\n",
       "    <tr>\n",
       "      <th>4</th>\n",
       "      <td>198.6</td>\n",
       "      <td>132.4</td>\n",
       "      <td>0.0</td>\n",
       "      <td>192.0</td>\n",
       "      <td>0.0</td>\n",
       "      <td>978.4</td>\n",
       "      <td>825.5</td>\n",
       "      <td>360</td>\n",
       "      <td>44.30</td>\n",
       "    </tr>\n",
       "  </tbody>\n",
       "</table>\n",
       "</div>"
      ],
      "text/plain": [
       "   Cement (component 1)(kg in a m^3 mixture)  \\\n",
       "0                                      540.0   \n",
       "1                                      540.0   \n",
       "2                                      332.5   \n",
       "3                                      332.5   \n",
       "4                                      198.6   \n",
       "\n",
       "   Blast Furnace Slag (component 2)(kg in a m^3 mixture)  \\\n",
       "0                                                0.0       \n",
       "1                                                0.0       \n",
       "2                                              142.5       \n",
       "3                                              142.5       \n",
       "4                                              132.4       \n",
       "\n",
       "   Fly Ash (component 3)(kg in a m^3 mixture)  \\\n",
       "0                                         0.0   \n",
       "1                                         0.0   \n",
       "2                                         0.0   \n",
       "3                                         0.0   \n",
       "4                                         0.0   \n",
       "\n",
       "   Water  (component 4)(kg in a m^3 mixture)  \\\n",
       "0                                      162.0   \n",
       "1                                      162.0   \n",
       "2                                      228.0   \n",
       "3                                      228.0   \n",
       "4                                      192.0   \n",
       "\n",
       "   Superplasticizer (component 5)(kg in a m^3 mixture)  \\\n",
       "0                                                2.5     \n",
       "1                                                2.5     \n",
       "2                                                0.0     \n",
       "3                                                0.0     \n",
       "4                                                0.0     \n",
       "\n",
       "   Coarse Aggregate  (component 6)(kg in a m^3 mixture)  \\\n",
       "0                                             1040.0      \n",
       "1                                             1055.0      \n",
       "2                                              932.0      \n",
       "3                                              932.0      \n",
       "4                                              978.4      \n",
       "\n",
       "   Fine Aggregate (component 7)(kg in a m^3 mixture)  Age (day)  \\\n",
       "0                                              676.0         28   \n",
       "1                                              676.0         28   \n",
       "2                                              594.0        270   \n",
       "3                                              594.0        365   \n",
       "4                                              825.5        360   \n",
       "\n",
       "   Concrete compressive strength(MPa, megapascals)   \n",
       "0                                             79.99  \n",
       "1                                             61.89  \n",
       "2                                             40.27  \n",
       "3                                             41.05  \n",
       "4                                             44.30  "
      ]
     },
     "execution_count": 4,
     "metadata": {},
     "output_type": "execute_result"
    }
   ],
   "source": [
    "data = pd.read_csv(Path(\"datasets\") / \"Concrete_Data.csv\")\n",
    "data.head()"
   ]
  },
  {
   "cell_type": "markdown",
   "id": "dc529d6e",
   "metadata": {
    "deletable": false,
    "editable": false,
    "nbgrader": {
     "cell_type": "markdown",
     "checksum": "06c5e2b7505739407c82ae714b414efa",
     "grade": false,
     "grade_id": "cell-de085ea88ff5f270",
     "locked": true,
     "schema_version": 3,
     "solution": false,
     "task": false
    }
   },
   "source": [
    "In this task, we will use the dataset with concrete data. The dataset is available in the file `concrete_data.csv`. The dataset contains 8 input variables and 1 output variable. The input variables are Cement, Blast Furnace Slag, Fly Ash, Water, Superplasticizer, Coarse Aggregate, Fine Aggregate, and Age. The output variable is the compressive strength of the concrete. \n",
    "We want to use a Gaussian Process to model the compressive strength of the concrete as a function of the other variables. Such a model can be useful in designing concrete mixtures or predicting the strength given the mixture properties. \n",
    "Let's divide the dataset into the training (80 %) and test (20 %) sets. We also initialize the 300 inducing points as randomly selected from the training set."
   ]
  },
  {
   "cell_type": "code",
   "execution_count": 5,
   "id": "aea63a25",
   "metadata": {
    "deletable": false,
    "editable": false,
    "nbgrader": {
     "cell_type": "code",
     "checksum": "a3920ba44548f7130d30a6376320fdda",
     "grade": false,
     "grade_id": "cell-e6817cbb93d174b4",
     "locked": true,
     "schema_version": 3,
     "solution": false,
     "task": false
    }
   },
   "outputs": [],
   "source": [
    "# Extract X and Y from the dataframe and convert to numpy arrays\n",
    "data_numpy = data.to_numpy()\n",
    "X = data_numpy[:, :-1]\n",
    "Y = data_numpy[:, -1]\n",
    "\n",
    "# Assuming X and Y are your features and labels, respectively\n",
    "# Let's say you have 80% of the data for training and 20% for testing\n",
    "\n",
    "# Set a random seed for reproducibility\n",
    "np.random.seed(42)\n",
    "\n",
    "# Get the number of samples in your dataset\n",
    "num_samples = len(X)\n",
    "\n",
    "# Define the percentage split\n",
    "train_percentage = 0.8\n",
    "\n",
    "# Calculate the number of samples for training\n",
    "num_train_samples = int(train_percentage * num_samples)\n",
    "\n",
    "# Generate random indices for the training set\n",
    "train_indices = np.random.choice(num_samples, num_train_samples, replace=False)\n",
    "\n",
    "# Use the remaining indices for the test set\n",
    "test_indices = np.setdiff1d(np.arange(num_samples), train_indices)\n",
    "\n",
    "# Split the data based on the generated indices\n",
    "train_x, train_y = X[train_indices], Y[train_indices]\n",
    "test_x, test_y = X[test_indices], Y[test_indices]\n",
    "\n",
    "# create the training dataloader\n",
    "train_x_torch = torch.from_numpy(train_x).double()\n",
    "train_y_torch = torch.from_numpy(train_y).double()\n",
    "train_dataset = TensorDataset(train_x_torch, train_y_torch)\n",
    "train_loader = DataLoader(train_dataset, batch_size=256, shuffle=True)\n",
    "\n",
    "# pick inducing points randomly from the training data\n",
    "num_inducing_points = 300\n",
    "inducing_points_index = np.random.choice(\n",
    "    num_train_samples, num_inducing_points, replace=False\n",
    ")\n",
    "inducing_points = torch.from_numpy(train_x[inducing_points_index, :]).double()"
   ]
  },
  {
   "cell_type": "markdown",
   "id": "11fdb410",
   "metadata": {
    "deletable": false,
    "editable": false,
    "nbgrader": {
     "cell_type": "markdown",
     "checksum": "fe9f2ec162952480bf5e187e493417ba",
     "grade": false,
     "grade_id": "cell-35010650535c774e",
     "locked": true,
     "schema_version": 3,
     "solution": false,
     "task": false
    }
   },
   "source": [
    "## Task 3b.2 - Construct a Sparse Gaussian Process with Multiple-Input Single Output (0.5p)\n",
    "Choose the Zero mean or the constant mean according to the if/else statement of the class. Choose the kernel to be an RBF kernel with ARD (0.5p). In GPytorch, the ARD is implemented by setting the `ard_num_dims` parameter of the kernel to the number of input features."
   ]
  },
  {
   "cell_type": "code",
   "execution_count": 6,
   "id": "dd4c36d4",
   "metadata": {
    "deletable": false,
    "nbgrader": {
     "cell_type": "code",
     "checksum": "d06bca671c5fb28b5452b59952d11d74",
     "grade": true,
     "grade_id": "cell-7665366ef6109e2e",
     "locked": false,
     "points": 0.5,
     "schema_version": 3,
     "solution": true,
     "task": false
    }
   },
   "outputs": [],
   "source": [
    "class SVGPModel(ApproximateGP):\n",
    "    def __init__(self, inducing_points, constant_mean=False):\n",
    "        variational_distribution = CholeskyVariationalDistribution(\n",
    "            inducing_points.size(0)\n",
    "        )\n",
    "        variational_strategy = VariationalStrategy(\n",
    "            self,\n",
    "            inducing_points,\n",
    "            variational_distribution,\n",
    "            learn_inducing_locations=True,\n",
    "        )\n",
    "        super(SVGPModel, self).__init__(variational_strategy)\n",
    "        if constant_mean:\n",
    "            self.mean_module = gpytorch.means.ConstantMean()\n",
    "        else:  # Zero mean\n",
    "            self.mean_module = gpytorch.means.ZeroMean()\n",
    "\n",
    "        # Use a RBF kernel with automatic relevance determination (ARD)\n",
    "        self.covar_module = gpytorch.kernels.ScaleKernel(gpytorch.kernels.RBFKernel(ard_num_dims=inducing_points.shape[1]))\n",
    "\n",
    "    def forward(self, x): \n",
    "        mean_x = self.mean_module(x)\n",
    "        covar_x = self.covar_module(x)\n",
    "        return gpytorch.distributions.MultivariateNormal(mean_x, covar_x)"
   ]
  },
  {
   "cell_type": "markdown",
   "id": "eb140063",
   "metadata": {
    "deletable": false,
    "editable": false,
    "nbgrader": {
     "cell_type": "markdown",
     "checksum": "781d0feb35104574353616828c2cbf53",
     "grade": false,
     "grade_id": "cell-fb812c2182ac28c5",
     "locked": true,
     "schema_version": 3,
     "solution": false,
     "task": false
    }
   },
   "source": [
    "## Task 3b.3 - Design a function for training the variational parameters (0.5p)\n",
    "Correctly define the marginal log-likelihood, considering our model is an approximate SVGP."
   ]
  },
  {
   "cell_type": "code",
   "execution_count": 7,
   "id": "ceca296f",
   "metadata": {
    "deletable": false,
    "nbgrader": {
     "cell_type": "code",
     "checksum": "c81553f91a33975edd902da0b6b55ecd",
     "grade": true,
     "grade_id": "cell-10b461dbe4e562bc",
     "locked": false,
     "points": 0.5,
     "schema_version": 3,
     "solution": true,
     "task": false
    }
   },
   "outputs": [],
   "source": [
    "def train_variational_parameters(likelihood, model, num_epochs: int = 2000):\n",
    "    optimizer = torch.optim.Adam(\n",
    "        [\n",
    "            {\"params\": model.parameters()},\n",
    "            {\"params\": likelihood.parameters()},\n",
    "        ],\n",
    "        lr=0.01,\n",
    "    )\n",
    "\n",
    "    # Our loss object. We're using the VariationalELBO\n",
    "    mll = gpytorch.mlls.VariationalELBO(likelihood, model, num_data=len(train_y_torch))\n",
    "\n",
    "    model.train()\n",
    "    likelihood.train()\n",
    "    for i in tqdm(range(num_epochs)):\n",
    "        # Within each iteration, we will go over each minibatch of data\n",
    "        for x_batch, y_batch in train_loader:\n",
    "            optimizer.zero_grad()\n",
    "            output = model(x_batch)\n",
    "            loss = -mll(output, y_batch)\n",
    "            loss.backward()\n",
    "            optimizer.step()"
   ]
  },
  {
   "cell_type": "markdown",
   "id": "bb6b1ddf",
   "metadata": {
    "deletable": false,
    "editable": false,
    "nbgrader": {
     "cell_type": "markdown",
     "checksum": "18add06b55c8efd7bb6d7c9a7c63b533",
     "grade": false,
     "grade_id": "cell-f615d3eafce743e1",
     "locked": true,
     "schema_version": 3,
     "solution": false,
     "task": false
    }
   },
   "source": [
    "## Task 3b.4 - Define a function for evaluating the model and computing metrics (1.5p)\n",
    "When we predict the strength of a material, the absolute error is not the only metric we are interested in. We are going also to compute the accuracy of the model. We consider the prediction correct if the absolute error is less than two times the standard deviation, considering that the GP is a probabilistic model. Moreover, we are interested in quantifying the percentage of dangerous predictions. We consider a prediction dangerous if the model's lower confidence bound, i.e., the prediction minus two standard deviations, is higher than the actual value. This means that if the engineers use the lower confidence bound as a safety value for the strength of the material, they are still overestimating the strength, which may lead to undesired failures.\n",
    "\n",
    "\n",
    "Compute the following metrics.\n",
    "- Mean Absolute Error (MAE) on the train set\n",
    "- Mean Absolute Error (MAE) on the test set\n",
    "- Accuracy of the model on the train set (consider the prediction as correct if the absolute error is less than two times the standard deviation)\n",
    "- Accuracy of the model on the test set (consider the prediction as correct if the absolute error is less than two times the standard deviation)\n",
    "- Quantify the percentage of dangerous prediction, i.e., the prediction minus two standard deviations is higher than the actual value on the train set. \n",
    "- Quantify the percentage of dangerous prediction, i.e., the prediction minus two standard deviations is higher than the actual value, on the test set\n"
   ]
  },
  {
   "cell_type": "code",
   "execution_count": 8,
   "id": "43b25be6",
   "metadata": {
    "deletable": false,
    "nbgrader": {
     "cell_type": "code",
     "checksum": "a2d47e266d658db7902ff7e698ffd867",
     "grade": true,
     "grade_id": "cell-d857b199bf25d735",
     "locked": false,
     "points": 1.5,
     "schema_version": 3,
     "solution": true,
     "task": false
    }
   },
   "outputs": [],
   "source": [
    "def evaluate_model(likelihood, model):\n",
    "    # Get into evaluation (predictive posterior) mode\n",
    "    model.eval()\n",
    "    likelihood.eval()\n",
    "\n",
    "    # Evaluate the model on the test data\n",
    "    with torch.no_grad(), gpytorch.settings.fast_pred_var():\n",
    "        test_x_torch = torch.from_numpy(test_x).double()\n",
    "        test_y_torch = torch.from_numpy(test_y).double()  # y in the test set\n",
    "\n",
    "        train_pred = likelihood(model(train_x_torch))     # predictions (distributions) in the train set\n",
    "        test_pred = likelihood(model(test_x_torch))       # predictions (distributions) in the test set\n",
    "\n",
    "        # Extract relevant parameters\n",
    "        mu_train = train_pred.mean  # mean of the predictions in the train set\n",
    "        mu_test = test_pred.mean    # mean of the predictions in the test set\n",
    "        sigma_train = train_pred.stddev  # std dev of the predictions in the train set\n",
    "        sigma_test = test_pred.stddev    # std dev of the predictions in the test set\n",
    "        \n",
    "        # Compute MAE = 1/N*sum(|mu_i-y_i|)\n",
    "        mae_train = torch.mean(torch.abs(mu_train-train_y_torch))\n",
    "        mae_test = torch.mean(torch.abs(mu_test-test_y_torch))\n",
    "\n",
    "        # Compute accuracy\n",
    "        accuracy_train = torch.mean( (torch.abs(mu_train - train_y_torch) < 2 * sigma_train).double() )\n",
    "        accuracy_test = torch.mean( (torch.abs(mu_test - test_y_torch) < 2 * sigma_test).double() )\n",
    "\n",
    "        # Compute dangerous predictions\n",
    "        dangerous_prediction_train = torch.mean( (torch.abs(mu_train - 2 * sigma_train) > train_y_torch).double() )\n",
    "        dangerous_prediction_test = torch.mean( (torch.abs(mu_test - 2 * sigma_test) > test_y_torch).double() )\n",
    "\n",
    "        # Print\n",
    "        print(f\"MAE on train set: {mae_train}\")\n",
    "        print(f\"MAE on test set: {mae_test}\")\n",
    "        print(f\"Accuracy on train set: {accuracy_train}\")\n",
    "        print(f\"Accuracy on test set: {accuracy_test}\")\n",
    "        print(f\"Dangerous percentage prediction on train set: {dangerous_prediction_train}\")\n",
    "        print(f\"Dangerous percentage prediction on test set {dangerous_prediction_test}\")\n",
    "\n",
    "        return train_pred, test_pred"
   ]
  },
  {
   "cell_type": "markdown",
   "id": "c577f03f",
   "metadata": {
    "deletable": false,
    "editable": false,
    "nbgrader": {
     "cell_type": "markdown",
     "checksum": "a052ac63db706556ad78e74175f1f11c",
     "grade": false,
     "grade_id": "cell-b78bf3bbaee489d2",
     "locked": true,
     "schema_version": 3,
     "solution": false,
     "task": false
    }
   },
   "source": [
    "## Task 3b.5 - Train and evaluate the `SVGPModel` with a constant mean (1.5)\n",
    "### Task 3b.5.1 - Initialize a constant mean model and the Gaussian Likelihood (0.5p)"
   ]
  },
  {
   "cell_type": "code",
   "execution_count": 9,
   "id": "e2f6d0aa",
   "metadata": {
    "deletable": false,
    "nbgrader": {
     "cell_type": "code",
     "checksum": "6329f21e03fadc9c0f387969c5eaa6dd",
     "grade": true,
     "grade_id": "cell-ce838438be8fda36",
     "locked": false,
     "points": 0.5,
     "schema_version": 3,
     "solution": true,
     "task": false
    }
   },
   "outputs": [
    {
     "data": {
      "application/vnd.jupyter.widget-view+json": {
       "model_id": "7a5eb2361bb74ce4a3e57f33aee453d6",
       "version_major": 2,
       "version_minor": 0
      },
      "text/plain": [
       "  0%|          | 0/2000 [00:00<?, ?it/s]"
      ]
     },
     "metadata": {},
     "output_type": "display_data"
    }
   ],
   "source": [
    "# Set a random seed for reproducibility\n",
    "np.random.seed(43)\n",
    "\n",
    "# initialize the model\n",
    "model_constant_mean = SVGPModel(inducing_points, constant_mean=True)\n",
    "likelihood_constant_mean = gpytorch.likelihoods.GaussianLikelihood()\n",
    "\n",
    "model_constant_mean = model_constant_mean.double()\n",
    "likelihood_constant_mean = likelihood_constant_mean.double()\n",
    "\n",
    "# train the variational parameters\n",
    "train_variational_parameters(likelihood_constant_mean, model_constant_mean)"
   ]
  },
  {
   "cell_type": "markdown",
   "id": "c38a1342",
   "metadata": {
    "deletable": false,
    "editable": false,
    "nbgrader": {
     "cell_type": "markdown",
     "checksum": "554e780e22b08ee42ed16845103d6c84",
     "grade": false,
     "grade_id": "cell-cb961022f25dc296",
     "locked": true,
     "schema_version": 3,
     "solution": false,
     "task": false
    }
   },
   "source": [
    "### Task 3b.5.2 - Evaluate the model and print metrics (0.5p)"
   ]
  },
  {
   "cell_type": "code",
   "execution_count": 10,
   "id": "fdccf2a2",
   "metadata": {
    "deletable": false,
    "nbgrader": {
     "cell_type": "code",
     "checksum": "2e9fa364bedf41eb15b2c711ff72a6ec",
     "grade": true,
     "grade_id": "cell-6928ae580ad74ab9",
     "locked": false,
     "points": 0.5,
     "schema_version": 3,
     "solution": true,
     "task": false
    }
   },
   "outputs": [
    {
     "name": "stdout",
     "output_type": "stream",
     "text": [
      "MAE on train set: 3.1917775071265875\n",
      "MAE on test set: 6.306217731033726\n",
      "Accuracy on train set: 0.9271844660194175\n",
      "Accuracy on test set: 0.7766990291262136\n",
      "Dangerous percentage prediction on train set: 0.019417475728155338\n",
      "Dangerous percentage prediction on test set 0.07281553398058252\n"
     ]
    }
   ],
   "source": [
    "# Call the function to evaluate the model\n",
    "train_pred_constant_mean, test_pred_constant_mean = evaluate_model(likelihood_constant_mean, model_constant_mean)"
   ]
  },
  {
   "cell_type": "markdown",
   "id": "7d7aa183",
   "metadata": {
    "deletable": false,
    "editable": false,
    "nbgrader": {
     "cell_type": "markdown",
     "checksum": "67cfa98fc6dc441fa0668744768b1dda",
     "grade": false,
     "grade_id": "cell-c7e9855aaa27f18b",
     "locked": true,
     "schema_version": 3,
     "solution": false,
     "task": false
    }
   },
   "source": [
    "### Task 3b.5.3 - Print the horizontal and the vertical length scales, and the constant mean value (0.5p)"
   ]
  },
  {
   "cell_type": "code",
   "execution_count": 11,
   "id": "6c6ba027",
   "metadata": {
    "deletable": false,
    "nbgrader": {
     "cell_type": "code",
     "checksum": "da023fd95f3f0bbeb169723d34e5acc6",
     "grade": true,
     "grade_id": "cell-b3f9a306950753b9",
     "locked": false,
     "points": 0.5,
     "schema_version": 3,
     "solution": true,
     "task": false
    }
   },
   "outputs": [
    {
     "name": "stdout",
     "output_type": "stream",
     "text": [
      "Horizontal Lenghtscale of the kernel:  [[61.0072521  65.85081385 57.13907048 46.02025436 31.58645205 58.9385639\n",
      "  63.09434924 28.29849328]]\n",
      "Vertical Lengthscale of the kernel:  32.89659472221517\n",
      "Constant mean value:  21.74316331165605\n"
     ]
    }
   ],
   "source": [
    "l_const_mean = model_constant_mean.covar_module.base_kernel.lengthscale.detach().numpy()\n",
    "sigma_f_2_const_mean = model_constant_mean.covar_module.raw_outputscale.item()\n",
    "const_mean_value = model_constant_mean.mean_module.constant.item()\n",
    "\n",
    "print(\"Horizontal Lenghtscale of the kernel: \", l_const_mean)\n",
    "print(\"Vertical Lengthscale of the kernel: \", sigma_f_2_const_mean)\n",
    "print(\"Constant mean value: \", const_mean_value)"
   ]
  },
  {
   "cell_type": "markdown",
   "id": "8ab8384b",
   "metadata": {
    "deletable": false,
    "editable": false,
    "nbgrader": {
     "cell_type": "markdown",
     "checksum": "d5d7143b46d52e07193e554c30a5061b",
     "grade": false,
     "grade_id": "cell-e1d1af24aca2a8ae",
     "locked": true,
     "schema_version": 3,
     "solution": false,
     "task": false
    }
   },
   "source": [
    "### Task 3b.5.4 - Plot the predictions on the test set (0p)"
   ]
  },
  {
   "cell_type": "code",
   "execution_count": 12,
   "id": "fbcbec7b",
   "metadata": {
    "deletable": false,
    "editable": false,
    "nbgrader": {
     "cell_type": "code",
     "checksum": "cbece40d4a73d35911e2fa43f8e380e4",
     "grade": false,
     "grade_id": "cell-3da8dc9038b9d08e",
     "locked": true,
     "schema_version": 3,
     "solution": false,
     "task": false
    }
   },
   "outputs": [
    {
     "data": {
      "application/vnd.jupyter.widget-view+json": {
       "model_id": "742b342a2e344f08807a7b05c1551c6c",
       "version_major": 2,
       "version_minor": 0
      },
      "image/png": "[encoded data removed]",
      "text/html": [
       "\n",
       "            <div style=\"display: inline-block;\">\n",
       "                <div class=\"jupyter-widgets widget-label\" style=\"text-align: center;\">\n",
       "                    Figure\n",
       "                </div>\n",
       "                <img src='data:image/png;base64,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' width=640.0/>\n",
       "            </div>\n",
       "        "
      ],
      "text/plain": [
       "Canvas(toolbar=Toolbar(toolitems=[('Home', 'Reset original view', 'home', 'home'), ('Back', 'Back to previous …"
      ]
     },
     "metadata": {},
     "output_type": "display_data"
    }
   ],
   "source": [
    "%matplotlib widget\n",
    "\n",
    "# Setting fig and ax variables as subplots()\n",
    "# function returns tuple(fig, ax)\n",
    "fig, ax = plt.subplots()\n",
    "\n",
    "# Adjust the bottom size according to the\n",
    "# requirement of the user\n",
    "plt.subplots_adjust(bottom=0.25)\n",
    "\n",
    "index = np.arange(test_y.shape[0])\n",
    "plt.errorbar(\n",
    "    index,\n",
    "    test_pred_constant_mean.mean.numpy(),\n",
    "    yerr=2 * test_pred_constant_mean.stddev.numpy(),\n",
    "    fmt=\"*\",\n",
    "    label=\"Predictions: $ \\mu \\pm 2 \\sigma $\",\n",
    ")\n",
    "plt.plot(index, test_y, \"o\", label=\"True values\")\n",
    "\n",
    "plt.title(\"Prediction on test set\")\n",
    "plt.legend()\n",
    "# Choose the Slider color\n",
    "slider_color = \"White\"\n",
    "\n",
    "# Set the axis and slider position in the plot\n",
    "axis_position = plt.axes([0.2, 0.1, 0.65, 0.03], facecolor=slider_color)\n",
    "slider_position = Slider(axis_position, \"Pos\", 0.1, 90.0)\n",
    "\n",
    "\n",
    "# update() function to change the graph when the\n",
    "# slider is in use\n",
    "def update(val):\n",
    "    pos = slider_position.val\n",
    "    ax.axis([pos, pos + 20, 0, 100])\n",
    "    fig.canvas.draw_idle()\n",
    "\n",
    "\n",
    "# update function called using on_changed() function\n",
    "slider_position.on_changed(update)\n",
    "# Display the plot\n",
    "plt.savefig(outputs_dir / \"task_3b-5-4_predictions_on_test_set.pdf\")\n",
    "  \n",
    "plt.show()"
   ]
  },
  {
   "cell_type": "markdown",
   "id": "7768b26c",
   "metadata": {
    "deletable": false,
    "editable": false,
    "nbgrader": {
     "cell_type": "markdown",
     "checksum": "4c889990401b0f52f611089d5c5f589a",
     "grade": false,
     "grade_id": "cell-bf8dca82183883b9",
     "locked": true,
     "schema_version": 3,
     "solution": false,
     "task": false
    }
   },
   "source": [
    "## Task 3b.6 - Train and evaluate the `SVGPModel` with zero mean (0.0p)"
   ]
  },
  {
   "cell_type": "markdown",
   "id": "95467cf4",
   "metadata": {},
   "source": [
    "### Task 3b.6.0 - Instantiate and train Train the model (0.p)"
   ]
  },
  {
   "cell_type": "code",
   "execution_count": 13,
   "id": "8ed3992c",
   "metadata": {
    "deletable": false,
    "nbgrader": {
     "cell_type": "code",
     "checksum": "339f5041515ce08cec195743430d6a42",
     "grade": true,
     "grade_id": "cell-6b0ddd961eed0731",
     "locked": false,
     "points": 0,
     "schema_version": 3,
     "solution": true,
     "task": false
    }
   },
   "outputs": [
    {
     "data": {
      "application/vnd.jupyter.widget-view+json": {
       "model_id": "013d47f23c1e4e9bbca02b5259721d33",
       "version_major": 2,
       "version_minor": 0
      },
      "text/plain": [
       "  0%|          | 0/2000 [00:00<?, ?it/s]"
      ]
     },
     "metadata": {},
     "output_type": "display_data"
    },
    {
     "name": "stdout",
     "output_type": "stream",
     "text": [
      "MAE on train set: 3.445726343238726\n",
      "MAE on test set: 7.029373156312272\n",
      "Accuracy on train set: 0.9223300970873787\n",
      "Accuracy on test set: 0.7766990291262136\n",
      "Dangerous percentage prediction on train set: 0.01699029126213592\n",
      "Dangerous percentage prediction on test set 0.07281553398058252\n"
     ]
    }
   ],
   "source": [
    "# Set a random seed for reproducibility\n",
    "np.random.seed(43)\n",
    "\n",
    "# Define the model (with a zero mean) and the likelihood\n",
    "model_zero_mean = SVGPModel(inducing_points, constant_mean=False)\n",
    "likelihood_zero_mean = gpytorch.likelihoods.GaussianLikelihood()\n",
    "\n",
    "model_zero_mean = model_zero_mean.double()\n",
    "likelihood_zero_mean = likelihood_zero_mean.double()\n",
    "\n",
    "# Call the function to train the variational parameters\n",
    "train_variational_parameters(likelihood_zero_mean, model_zero_mean)\n",
    "\n",
    "# Call the function to evaluate the model\n",
    "train_pred_zero_mean, test_pred_zero_mean = evaluate_model(likelihood_zero_mean, model_zero_mean)"
   ]
  },
  {
   "cell_type": "markdown",
   "id": "e831f1fe",
   "metadata": {},
   "source": [
    "### Task 3b.6.1 - Print the horizontal and the vertical length scales (0.0p)"
   ]
  },
  {
   "cell_type": "code",
   "execution_count": 14,
   "id": "41acd7d1",
   "metadata": {
    "deletable": false,
    "nbgrader": {
     "cell_type": "code",
     "checksum": "2d74e55fe32e697ee874e78ba2d795bf",
     "grade": true,
     "grade_id": "cell-96876de1bc31c86a",
     "locked": false,
     "points": 0,
     "schema_version": 3,
     "solution": true,
     "task": false
    }
   },
   "outputs": [
    {
     "name": "stdout",
     "output_type": "stream",
     "text": [
      "Horizontal Lenghtscale of the kernel:  [[63.35294246 68.69450761 57.6783818  50.38930793 34.64502891 61.51757588\n",
      "  65.69074903 38.01350035]]\n",
      "Vertical Lengthscale of the kernel:  39.10573059122462\n"
     ]
    }
   ],
   "source": [
    "l_zero_mean = model_zero_mean.covar_module.base_kernel.lengthscale.detach().numpy()\n",
    "sigma_f_2_zero_mean = model_zero_mean.covar_module.raw_outputscale.item()\n",
    "\n",
    "print(\"Horizontal Lenghtscale of the kernel: \",  l_zero_mean)\n",
    "print(\"Vertical Lengthscale of the kernel: \", sigma_f_2_zero_mean)"
   ]
  },
  {
   "cell_type": "markdown",
   "id": "baa68348",
   "metadata": {
    "deletable": false,
    "editable": false,
    "nbgrader": {
     "cell_type": "markdown",
     "checksum": "98ece5c37100f0edc550022008dc644f",
     "grade": false,
     "grade_id": "cell-02030cafaad31dd1",
     "locked": true,
     "schema_version": 3,
     "solution": false,
     "task": false
    }
   },
   "source": [
    "## Task 3b.7 - Comparison of the two models (1p)\n",
    "Comment on the difference between the predictions of the two sparse GP models (i.e., the one with constant and zero mean). Discuss the effect of the mean function, in particular, on the safety of the predictions."
   ]
  },
  {
   "cell_type": "code",
   "execution_count": 16,
   "id": "380e84d1",
   "metadata": {
    "deletable": false,
    "nbgrader": {
     "cell_type": "code",
     "checksum": "768f57c82e1afb4e5214be95ed11060e",
     "grade": true,
     "grade_id": "cell-daf9bb0cba1218e2",
     "locked": false,
     "points": 1,
     "schema_version": 3,
     "solution": true,
     "task": false
    }
   },
   "outputs": [],
   "source": [
    "# In general, the zero mean model has higher MAE errors than the constant mean model. On the other side, it gives similar accuracies. This\n",
    "# could be due to the fact that the constant mean model models better the general tendency of the real data (that don't have zero mean), \n",
    "# \"centering\" better the predictions. Since the MAE is only accounting for the mean, this means that the constant mean model is better from\n",
    "# that point of view. The zero mean model, instead, is \"less sure\" and gives larger (in terms of covariance) confidence intervals. This can \n",
    "# be seen from the larger resulting vertical lengthscale and also justifies the higher accuracy, as it is easier for the true points to be \n",
    "# \"included\" in the \"larger interval\" (think of how the accuracy is defined).\n",
    "# Finally, the two models show very similar results concerning the \"dangerous predictions\" (very close percentage on the test set). However,\n",
    "# as we already said, the zero mean model, being \"less confident\" could be a bit safer and prudent, despide being less precise."
   ]
  }
 ],
 "metadata": {
  "kernelspec": {
   "display_name": "Python 3 (ipykernel)",
   "language": "python",
   "name": "python3"
  },
  "language_info": {
   "codemirror_mode": {
    "name": "ipython",
    "version": 3
   },
   "file_extension": ".py",
   "mimetype": "text/x-python",
   "name": "python",
   "nbconvert_exporter": "python",
   "pygments_lexer": "ipython3",
   "version": "3.11.12"
  }
 },
 "nbformat": 4,
 "nbformat_minor": 5
}
